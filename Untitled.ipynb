{
 "cells": [
  {
   "cell_type": "code",
   "execution_count": 43,
   "metadata": {},
   "outputs": [],
   "source": [
    "#Question 1\n",
    "\n",
    "import pandas as pd\n",
    "import csv\n",
    "filename = 'main.csv'\n",
    "df = pd.read_csv(filename)\n",
    "f = open('filteredCountry.csv', 'w',encoding=\"utf-8\",newline='')\n",
    "writer = csv.writer(f)\n",
    "header=[\"SKU\",\"DESCRIPTION\",\"YEAR\",\"CAPACITY\",\"URL\",\"PRICE\",\"SELLER_INFORMATION\",\"OFFER_DESCRIPTION\",\"COUNTRY\"]\n",
    "writer.writerow(header)\n",
    "for index, row in df.iterrows():\n",
    "    s=[]\n",
    "    if(df.loc[index,'COUNTRY'].startswith('USA')):\n",
    "        s.append(df.loc[index,'SKU'])\n",
    "        s.append(df.loc[index,'DESCRIPTION'])\n",
    "        s.append(df.loc[index,'YEAR'])\n",
    "        s.append(df.loc[index,'CAPACITY'])\n",
    "        s.append(df.loc[index,'URL'])\n",
    "        s.append(df.loc[index,'PRICE'])\n",
    "        s.append(df.loc[index,'SELLER_INFORMATION'])\n",
    "        s.append(df.loc[index,'OFFER_DESCRIPTION'])\n",
    "        s.append(df.loc[index,'COUNTRY'])\n",
    "        writer.writerow(s)\n",
    "f.close()"
   ]
  },
  {
   "cell_type": "code",
   "execution_count": 55,
   "metadata": {},
   "outputs": [],
   "source": [
    "#Question 2\n",
    "\n",
    "import pandas as pd\n",
    "import csv\n",
    "path='filteredCountry.csv'\n",
    "df1=pd.read_csv(path)\n",
    "f1 = open('lowestPrice.csv', 'w',encoding=\"utf-8\",newline='')\n",
    "writer1 = csv.writer(f1)\n",
    "h=[\"SKU\",\"FIRST_MINIMUM_PRICE\",\"SECOND_MINIMUM_PRICE\"]\n",
    "writer1.writerow(h)\n",
    "g=[]\n",
    "for index, row in df1.iterrows():\n",
    "    p=int(df.loc[index,'SKU'])\n",
    "    if p not in g:\n",
    "        g.append(p)\n",
    "for i in g:\n",
    "    plist=[]\n",
    "    s1=[]\n",
    "    for index, row in df1.iterrows():\n",
    "        p=int(df1.loc[index,'SKU'])\n",
    "        if p==i:\n",
    "            cur_price=df1.loc[index,'PRICE']\n",
    "            if cur_price.find(','):\n",
    "                cur_price=cur_price.replace(',','')\n",
    "            if cur_price[0]=='$':\n",
    "                plist.append(float(cur_price[1:]))\n",
    "            elif cur_price[-1]=='?':\n",
    "                plist.append(float(cur_price[:-1]))\n",
    "    s1.append(str(i))\n",
    "    if len(plist)>=2:\n",
    "        plist.sort()\n",
    "        s1.append(str(plist[0]))\n",
    "        s1.append(str(plist[1]))\n",
    "        writer1.writerow(s1)\n",
    "f1.close()"
   ]
  }
 ],
 "metadata": {
  "kernelspec": {
   "display_name": "Python 3",
   "language": "python",
   "name": "python3"
  },
  "language_info": {
   "codemirror_mode": {
    "name": "ipython",
    "version": 3
   },
   "file_extension": ".py",
   "mimetype": "text/x-python",
   "name": "python",
   "nbconvert_exporter": "python",
   "pygments_lexer": "ipython3",
   "version": "3.8.3"
  }
 },
 "nbformat": 4,
 "nbformat_minor": 4
}
